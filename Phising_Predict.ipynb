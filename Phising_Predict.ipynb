{
 "cells": [
  {
   "cell_type": "code",
   "execution_count": 1,
   "metadata": {},
   "outputs": [
    {
     "name": "stdout",
     "output_type": "stream",
     "text": [
      "0.9036206017338093\n"
     ]
    },
    {
     "name": "stderr",
     "output_type": "stream",
     "text": [
      "/Library/Frameworks/Python.framework/Versions/3.8/lib/python3.8/site-packages/sklearn/svm/base.py:189: FutureWarning: The default value of gamma will change from 'auto' to 'scale' in version 0.22 to account better for unscaled features. Set gamma explicitly to 'auto' or 'scale' to avoid this warning.\n",
      "  warnings.warn(\"The default value of gamma will change \"\n"
     ]
    }
   ],
   "source": [
    "import numpy as np\n",
    "from sklearn import *\n",
    "from sklearn import svm\n",
    "from sklearn.linear_model import LogisticRegression\n",
    "from sklearn.metrics import accuracy_score\n",
    "\n",
    "# load data \n",
    "training_data = np.genfromtxt('/Users/saravill/Downloads/TrainingDataset.arff', delimiter=',', dtype=np.int32)\n",
    "\n",
    "inputs = training_data[:,:-1]\n",
    "outputs= training_data[:, -1]\n",
    "\n",
    "# split test data and train data\n",
    "\n",
    "training_inputs = inputs[:1250]\n",
    "training_outputs = outputs[:1250] \n",
    "\n",
    "testing_inputs = inputs[1250:]\n",
    "testing_outputs = outputs[1250:]\n",
    "\n",
    "# use SVM Classifier\n",
    "\n",
    "classifier = svm.SVC()\n",
    "classifier.fit(training_inputs, training_outputs)\n",
    "\n",
    "# predict the last 1000+ reocrds \n",
    "\n",
    "predictions = classifier.predict(testing_inputs)\n",
    "\n",
    "accu =accuracy_score(testing_outputs, predictions)\n",
    "print (accu)"
   ]
  },
  {
   "cell_type": "code",
   "execution_count": null,
   "metadata": {},
   "outputs": [],
   "source": []
  }
 ],
 "metadata": {
  "kernelspec": {
   "display_name": "Python 3",
   "language": "python",
   "name": "python3"
  },
  "language_info": {
   "codemirror_mode": {
    "name": "ipython",
    "version": 3
   },
   "file_extension": ".py",
   "mimetype": "text/x-python",
   "name": "python",
   "nbconvert_exporter": "python",
   "pygments_lexer": "ipython3",
   "version": "3.8.0"
  }
 },
 "nbformat": 4,
 "nbformat_minor": 2
}
